{
 "cells": [
  {
   "cell_type": "markdown",
   "metadata": {
    "colab_type": "text",
    "id": "view-in-github"
   },
   "source": [
    "<a href=\"https://colab.research.google.com/github/IPL-UV/gaussflow/blob/master/docs/assets/demo/pytorch_nf_freia.ipynb\" target=\"_parent\"><img src=\"https://colab.research.google.com/assets/colab-badge.svg\" alt=\"Open In Colab\"/></a>"
   ]
  },
  {
   "cell_type": "markdown",
   "metadata": {
    "id": "QMV_fJikDPKT"
   },
   "source": [
    "# PyTorch PlayGround\n",
    "\n",
    "This is my notebook where I play around with all things PyTorch. I use the following packages:\n",
    "\n",
    "* PyTorch\n",
    "* Pyro\n",
    "* GPyTorch\n",
    "* PyTorch Lightning\n"
   ]
  },
  {
   "cell_type": "code",
   "execution_count": 2,
   "metadata": {},
   "outputs": [],
   "source": [
    "# @title Install Packages\n",
    "# %%capture\n",
    "try:\n",
    "    import sys, os\n",
    "    from pyprojroot import here\n",
    "\n",
    "    # spyder up to find the root\n",
    "    root = here(project_files=[\".here\"])\n",
    "\n",
    "    # append to path\n",
    "    sys.path.append(str(root))\n",
    "except ModuleNotFoundError:\n",
    "    import os\n",
    "\n",
    "    !pip install --upgrade pyro-ppl gpytorch pytorch-lightning tqdm wandb corner nflows\n",
    "    !pip install git+https://github.com/VLL-HD/FrEIA.git"
   ]
  },
  {
   "cell_type": "code",
   "execution_count": 3,
   "metadata": {
    "colab": {
     "base_uri": "https://localhost:8080/"
    },
    "id": "NUiHU3HWBa3o",
    "outputId": "ab02a9f0-ecb9-40a5-af55-d863c9fb5cbe"
   },
   "outputs": [
    {
     "name": "stdout",
     "output_type": "stream",
     "text": [
      "Using device: cuda\n"
     ]
    }
   ],
   "source": [
    "#@title Load Packages\n",
    "# TYPE HINTS\n",
    "from typing import Tuple, Optional, Dict, Callable, Union\n",
    "\n",
    "# PyTorch Settings\n",
    "import torch\n",
    "import torch.nn as nn\n",
    "from torch.utils.data import TensorDataset, DataLoader\n",
    "import torch.distributions as dist\n",
    "\n",
    "# PyTorch Lightning Settings\n",
    "import pytorch_lightning as pl\n",
    "from pytorch_lightning import Trainer, seed_everything\n",
    "from pytorch_lightning.loggers import WandbLogger\n",
    "\n",
    "# NUMPY SETTINGS\n",
    "import numpy as np\n",
    "np.set_printoptions(precision=3, suppress=True)\n",
    "\n",
    "# MATPLOTLIB Settings\n",
    "import corner\n",
    "import matplotlib as mpl\n",
    "import matplotlib.pyplot as plt\n",
    "%matplotlib inline\n",
    "%config InlineBackend.figure_format = 'retina'\n",
    "\n",
    "# SEABORN SETTINGS\n",
    "import seaborn as sns\n",
    "sns.set_context(context='talk',font_scale=0.7)\n",
    "# sns.set(rc={'figure.figsize': (12, 9.)})\n",
    "# sns.set_style(\"whitegrid\")\n",
    "\n",
    "# PANDAS SETTINGS\n",
    "import pandas as pd\n",
    "pd.set_option(\"display.max_rows\", 120)\n",
    "pd.set_option(\"display.max_columns\", 120)\n",
    "\n",
    "# LOGGING SETTINGS\n",
    "import ml_collections\n",
    "import wandb\n",
    "\n",
    "device = torch.device('cuda') if torch.cuda.is_available() else torch.device('cpu')\n",
    "print(\"Using device: {}\".format(device))\n",
    "#logger.setLevel(logging.INFO)\n",
    "\n",
    "%load_ext autoreload\n",
    "%autoreload 2"
   ]
  },
  {
   "cell_type": "markdown",
   "metadata": {},
   "source": [
    "## Config"
   ]
  },
  {
   "cell_type": "code",
   "execution_count": 4,
   "metadata": {},
   "outputs": [
    {
     "name": "stdout",
     "output_type": "stream",
     "text": [
      "5500000\n"
     ]
    }
   ],
   "source": [
    "cfg = ml_collections.ConfigDict()\n",
    "\n",
    "# Logger\n",
    "cfg.wandb_project = \"cvpr2021\"\n",
    "cfg.dataset = \"mnist_28x28\"\n",
    "cfg.wandb_entity = \"ipl_uv\"\n",
    "\n",
    "cfg.batch_size = 128\n",
    "cfg.num_workers = 8\n",
    "cfg.seed = 123\n",
    "\n",
    "# Data\n",
    "cfg.n_train = 5_000\n",
    "cfg.n_valid = 1_000\n",
    "cfg.n_test = 10_000\n",
    "cfg.noise = 0.05\n",
    "\n",
    "# Model\n",
    "cfg.loss_fn = \"bpd\"\n",
    "cfg.n_layers = 8\n",
    "cfg.multiscale = False\n",
    "cfg.n_reflections = 10\n",
    "cfg.n_bins = 8\n",
    "cfg.model = \"rnvp\"\n",
    "cfg.actnorm = True\n",
    "\n",
    "# Training\n",
    "cfg.num_epochs = 100\n",
    "cfg.lr_scheduler = \"cosine_annealing\"\n",
    "cfg.weight_decay = 1e-4\n",
    "cfg.gamma = 0.99\n",
    "cfg.learning_rate = 1e-3\n",
    "cfg.n_total_steps = cfg.num_epochs * 55_000\n",
    "print(cfg.n_total_steps)\n",
    "\n",
    "# Testing\n",
    "cfg.importance_samples = 8\n",
    "cfg.temperature = 1.0"
   ]
  },
  {
   "cell_type": "code",
   "execution_count": 5,
   "metadata": {},
   "outputs": [
    {
     "name": "stderr",
     "output_type": "stream",
     "text": [
      "Global seed set to 123\n"
     ]
    },
    {
     "data": {
      "text/plain": [
       "123"
      ]
     },
     "execution_count": 5,
     "metadata": {},
     "output_type": "execute_result"
    }
   ],
   "source": [
    "seed_everything(cfg.seed)"
   ]
  },
  {
   "cell_type": "markdown",
   "metadata": {},
   "source": [
    "## Logging"
   ]
  },
  {
   "cell_type": "code",
   "execution_count": 6,
   "metadata": {},
   "outputs": [
    {
     "name": "stderr",
     "output_type": "stream",
     "text": [
      "Failed to detect the name of this notebook, you can set it manually with the WANDB_NOTEBOOK_NAME environment variable to enable code saving.\n",
      "\u001b[34m\u001b[1mwandb\u001b[0m: Currently logged in as: \u001b[33memanjohnson91\u001b[0m (use `wandb login --relogin` to force relogin)\n"
     ]
    },
    {
     "data": {
      "text/html": [
       "\n",
       "                Tracking run with wandb version 0.12.1<br/>\n",
       "                Syncing run <strong style=\"color:#cdcd00\">cool-eon-119</strong> to <a href=\"https://wandb.ai\" target=\"_blank\">Weights & Biases</a> <a href=\"https://docs.wandb.com/integrations/jupyter.html\" target=\"_blank\">(Documentation)</a>.<br/>\n",
       "                Project page: <a href=\"https://wandb.ai/ipl_uv/cvpr2021\" target=\"_blank\">https://wandb.ai/ipl_uv/cvpr2021</a><br/>\n",
       "                Run page: <a href=\"https://wandb.ai/ipl_uv/cvpr2021/runs/2hqv6gf8\" target=\"_blank\">https://wandb.ai/ipl_uv/cvpr2021/runs/2hqv6gf8</a><br/>\n",
       "                Run data is saved locally in <code>/datadrive/eman/gaussflow/docs/assets/demo/mnist/wandb/run-20210909_084523-2hqv6gf8</code><br/><br/>\n",
       "            "
      ],
      "text/plain": [
       "<IPython.core.display.HTML object>"
      ]
     },
     "metadata": {},
     "output_type": "display_data"
    }
   ],
   "source": [
    "wandb_logger = WandbLogger(project=cfg.wandb_project, entity=cfg.wandb_entity)\n",
    "wandb_logger.experiment.config.update(cfg)"
   ]
  },
  {
   "cell_type": "markdown",
   "metadata": {
    "id": "fJSHSGzGeKLU"
   },
   "source": [
    "## Data"
   ]
  },
  {
   "cell_type": "code",
   "execution_count": 7,
   "metadata": {},
   "outputs": [],
   "source": [
    "from pl_bolts.datamodules import MNISTDataModule\n",
    "from torch.utils.data import DataLoader, random_split\n",
    "from torchvision.datasets.mnist import MNIST\n",
    "from torchvision import transforms"
   ]
  },
  {
   "cell_type": "code",
   "execution_count": 8,
   "metadata": {},
   "outputs": [],
   "source": [
    "\n",
    "\n",
    "# mnist_dm = MNISTDataModule(\n",
    "#     data_dir=\"/datadrive/eman/datasets/mnist/\",\n",
    "#     num_workers=4,\n",
    "#     normalize=False,\n",
    "#     batch_size=64,\n",
    "#     seed=123,\n",
    "#     transforms=train_transforms\n",
    "    \n",
    "    \n",
    "# )\n",
    "# mnist_dm.prepare_data(download=False)\n",
    "# mnist_dm.setup()"
   ]
  },
  {
   "cell_type": "code",
   "execution_count": 9,
   "metadata": {},
   "outputs": [],
   "source": [
    "def discretize(sample):\n",
    "    return (sample * 255).to(torch.int32)\n",
    "train_transforms = transforms.Compose(\n",
    "    [\n",
    "        # torchvision.transforms.RandomCrop(32, padding=4),\n",
    "        # torchvision.transforms.RandomHorizontalFlip(),\n",
    "        transforms.ToTensor(),\n",
    "        discretize\n",
    "    ]\n",
    ")\n",
    "\n",
    "dataset = MNIST(\"/datadrive/eman/datasets/mnist/\", train=True, download=True, transform=train_transforms)\n",
    "mnist_test = MNIST(\"/datadrive/eman/datasets/mnist/\", train=False, download=True, transform=train_transforms)\n",
    "mnist_train, mnist_val = random_split(dataset, [55000, 5000])\n",
    "\n",
    "train_loader = DataLoader(mnist_train, batch_size=256)\n",
    "val_loader = DataLoader(mnist_val, batch_size=256)\n",
    "test_loader = DataLoader(mnist_test, batch_size=256)\n",
    "\n",
    "# mnist_dm = MNISTDataModule(\n",
    "#     data_dir=\"/datadrive/eman/datasets/mnist/\",\n",
    "#     num_workers=4,\n",
    "#     normalize=False,\n",
    "#     batch_size=64,\n",
    "#     seed=123,\n",
    "    \n",
    "    \n",
    "# )\n",
    "# mnist_dm.prepare_data(download=False)\n",
    "# mnist_dm.setup()\n",
    "\n",
    "# train_loader = mnist_dm.train_dataloader()\n",
    "# val_loader = mnist_dm.val_dataloader()\n",
    "# test_loader = mnist_dm.test_dataloader()"
   ]
  },
  {
   "cell_type": "code",
   "execution_count": 10,
   "metadata": {},
   "outputs": [],
   "source": [
    "\n",
    "# train_loader = mnist_dm.train_dataloader()"
   ]
  },
  {
   "cell_type": "code",
   "execution_count": 11,
   "metadata": {},
   "outputs": [],
   "source": [
    "X_init = []\n",
    "\n",
    "for i, (ix, iy) in enumerate(train_loader):\n",
    "    \n",
    "    if isinstance(X_init, list):\n",
    "        X_init = ix\n",
    "    else:\n",
    "        X_init = torch.cat([X_init, ix], dim=0)\n",
    "\n",
    "    if X_init.shape[0] > 1_000:\n",
    "        break"
   ]
  },
  {
   "cell_type": "code",
   "execution_count": 12,
   "metadata": {},
   "outputs": [
    {
     "data": {
      "text/plain": [
       "(torch.Size([1024, 1, 28, 28]),\n",
       " tensor(0, dtype=torch.int32),\n",
       " tensor(255, dtype=torch.int32))"
      ]
     },
     "execution_count": 12,
     "metadata": {},
     "output_type": "execute_result"
    }
   ],
   "source": [
    "X_init.shape, X_init.min(), X_init.max()"
   ]
  },
  {
   "cell_type": "code",
   "execution_count": 13,
   "metadata": {},
   "outputs": [],
   "source": [
    "from torchvision.utils import make_grid\n",
    "\n",
    "def visualize_images(input_imgs):\n",
    "\n",
    "    grid = make_grid(input_imgs.to(torch.int32), nrow=8, ncols=8)\n",
    "    grid = grid.permute(1, 2, 0)\n",
    "    plt.figure(figsize=(7,7))\n",
    "    plt.title(f\"Images\")\n",
    "    plt.imshow(grid)\n",
    "    plt.axis('off')\n",
    "    plt.show()"
   ]
  },
  {
   "cell_type": "code",
   "execution_count": 14,
   "metadata": {},
   "outputs": [
    {
     "data": {
      "image/png": "[encoded data removed]",
      "text/plain": [
       "<Figure size 504x504 with 1 Axes>"
      ]
     },
     "metadata": {
      "image/png": {
       "height": 410,
       "width": 394
      },
      "needs_background": "light"
     },
     "output_type": "display_data"
    }
   ],
   "source": [
    "visualize_images(X_init[:64])"
   ]
  },
  {
   "cell_type": "markdown",
   "metadata": {},
   "source": [
    "#### DataLoader"
   ]
  },
  {
   "cell_type": "markdown",
   "metadata": {
    "id": "1HkZk7qTeLJY"
   },
   "source": [
    "## Model"
   ]
  },
  {
   "cell_type": "markdown",
   "metadata": {},
   "source": [
    "## Normalizing Flow Models"
   ]
  },
  {
   "cell_type": "code",
   "execution_count": 15,
   "metadata": {},
   "outputs": [],
   "source": [
    "# FrEIA imports\n",
    "import FrEIA.framework as Ff\n",
    "import FrEIA.modules as Fm\n",
    "from src.models.layers.dequantization import UniformDequantization\n",
    "from src.models.layers.convolutions import Conv1x1, Conv1x1Householder, ConvExponential\n",
    "from src.models.layers.multiscale import SplitPrior"
   ]
  },
  {
   "cell_type": "markdown",
   "metadata": {},
   "source": [
    "### RealNVP Model"
   ]
  },
  {
   "cell_type": "code",
   "execution_count": 16,
   "metadata": {},
   "outputs": [],
   "source": [
    "from src.models.flows.realnvp import append_realnvp_coupling_block_image\n",
    "from src.models.flows.gaussianization import append_gaussflow_image_block, append_gaussflow_tabular_block\n",
    "from src.experiments.utils import gf_propagate"
   ]
  },
  {
   "cell_type": "code",
   "execution_count": 17,
   "metadata": {},
   "outputs": [
    {
     "data": {
      "text/plain": [
       "torch.Size([1024, 1, 28, 28])"
      ]
     },
     "execution_count": 17,
     "metadata": {},
     "output_type": "execute_result"
    }
   ],
   "source": [
    "X_init.shape"
   ]
  },
  {
   "cell_type": "markdown",
   "metadata": {},
   "source": [
    "#### Architecture (Simple)"
   ]
  },
  {
   "cell_type": "code",
   "execution_count": 40,
   "metadata": {
    "tags": []
   },
   "outputs": [
    {
     "name": "stdout",
     "output_type": "stream",
     "text": [
      "Input:\n",
      "torch.Size([1024, 1, 28, 28]) 784\n",
      "tensor(0.) tensor(1.0000)\n"
     ]
    },
    {
     "data": {
      "application/vnd.jupyter.widget-view+json": {
       "model_id": "5f94be6b24104b5db523dbc1f7689195",
       "version_major": 2,
       "version_minor": 0
      },
      "text/plain": [
       "  0%|          | 0/4 [00:00<?, ?it/s]"
      ]
     },
     "metadata": {},
     "output_type": "display_data"
    },
    {
     "name": "stdout",
     "output_type": "stream",
     "text": [
      "Flatten:\n",
      "torch.Size([1024, 1, 28, 28]) 784\n",
      "Final:\n",
      "torch.Size([1024, 1, 28, 28]) 784\n"
     ]
    }
   ],
   "source": [
    "# a simple chain of operations is collected by ReversibleSequential\n",
    "from tqdm.notebook import trange\n",
    "\n",
    "n_channels = 1\n",
    "height = 28\n",
    "width = 28\n",
    "\n",
    "inn = Ff.SequenceINN(n_channels, height, width)\n",
    "\n",
    "init_X = X_init\n",
    "\n",
    "print(\"Input:\")\n",
    "print(init_X.shape, np.prod(inn(init_X)[0].shape[1:]))\n",
    "\n",
    "\n",
    "# uniform dequantization (for integers)\n",
    "inn.append(UniformDequantization, num_bits=8)\n",
    "\n",
    "init_X = gf_propagate(inn, X_init)\n",
    "\n",
    "\n",
    "\n",
    "print(init_X.min(), init_X.max())\n",
    "\n",
    "\n",
    "for isubflow in trange(4):\n",
    "\n",
    "    # append RealNVP Coupling Block\n",
    "    inn, _ = append_gaussflow_image_block(inn, init_X=init_X, non_linear=\"rqsplines\", n_components=12, n_reflections=20, )\n",
    "    \n",
    "    \n",
    "print(\"Flatten:\")\n",
    "inn.append(Fm.Flatten)\n",
    "print(init_X.shape, np.prod(inn(X_init)[0].shape[1:]))\n",
    "\n",
    "print(\"Final:\")\n",
    "print(init_X.shape, np.prod(inn(X_init)[0].shape[1:]))"
   ]
  },
  {
   "cell_type": "markdown",
   "metadata": {},
   "source": [
    "### Architecture (Multiscale)"
   ]
  },
  {
   "cell_type": "code",
   "execution_count": 43,
   "metadata": {},
   "outputs": [
    {
     "name": "stdout",
     "output_type": "stream",
     "text": [
      "Input:\n",
      "torch.Size([64, 1, 28, 28]) 784\n",
      "tensor(4.4238e-09) tensor(1.0000)\n"
     ]
    },
    {
     "data": {
      "application/vnd.jupyter.widget-view+json": {
       "model_id": "98fba55b54694293864342b9d1f79944",
       "version_major": 2,
       "version_minor": 0
      },
      "text/plain": [
       "  0%|          | 0/4 [00:00<?, ?it/s]"
      ]
     },
     "metadata": {},
     "output_type": "display_data"
    },
    {
     "name": "stdout",
     "output_type": "stream",
     "text": [
      "Scale: 1\n",
      "DownSample\n",
      "torch.Size([1024, 4, 14, 14]) 784\n"
     ]
    },
    {
     "data": {
      "application/vnd.jupyter.widget-view+json": {
       "model_id": "611bae5b78164dcdb5d73c86939af5ad",
       "version_major": 2,
       "version_minor": 0
      },
      "text/plain": [
       "  0%|          | 0/4 [00:00<?, ?it/s]"
      ]
     },
     "metadata": {},
     "output_type": "display_data"
    },
    {
     "name": "stdout",
     "output_type": "stream",
     "text": [
      "Scale: 2\n",
      "DownSample\n",
      "torch.Size([1024, 16, 7, 7]) 784\n"
     ]
    },
    {
     "data": {
      "application/vnd.jupyter.widget-view+json": {
       "model_id": "2c0ecd089368473d9b13c797cc2f8d74",
       "version_major": 2,
       "version_minor": 0
      },
      "text/plain": [
       "  0%|          | 0/4 [00:00<?, ?it/s]"
      ]
     },
     "metadata": {},
     "output_type": "display_data"
    },
    {
     "name": "stdout",
     "output_type": "stream",
     "text": [
      "Flatten:\n",
      "torch.Size([1024, 16, 7, 7]) 784\n",
      "Final:\n",
      "torch.Size([1024, 16, 7, 7]) 784\n"
     ]
    }
   ],
   "source": [
    "# a simple chain of operations is collected by ReversibleSequential\n",
    "from tqdm.notebook import trange\n",
    "\n",
    "n_channels = 1\n",
    "height = 28\n",
    "width = 28\n",
    "\n",
    "inn = Ff.SequenceINN(n_channels, height, width)\n",
    "\n",
    "init_X = X_init[:64]\n",
    "\n",
    "print(\"Input:\")\n",
    "print(init_X.shape, np.prod(inn(init_X)[0].shape[1:]))\n",
    "\n",
    "\n",
    "# uniform dequantization (for integers)\n",
    "inn.append(UniformDequantization, num_bits=8)\n",
    "\n",
    "init_X = gf_propagate(inn, X_init)\n",
    "\n",
    "\n",
    "\n",
    "print(init_X.min(), init_X.max())\n",
    "\n",
    "\n",
    "for isubflow in trange(4):\n",
    "\n",
    "    # append RealNVP Coupling Block\n",
    "    inn, init_X = append_gaussflow_image_block(inn, init_X=init_X, non_linear=\"rqsplines\", n_components=12, n_reflections=2, )\n",
    "    \n",
    "# SCALE I\n",
    "print(f\"Scale: 1\")\n",
    "print(\"DownSample\")\n",
    "inn.append(\n",
    "    Fm.IRevNetDownsampling, \n",
    ")\n",
    "print(inn(X_init)[0].shape, np.prod(inn(X_init)[0].shape[1:]))\n",
    "init_X = gf_propagate(inn, init_X)\n",
    "\n",
    "\n",
    "for isubflow in trange(4):\n",
    "\n",
    "    # append RealNVP Coupling Block\n",
    "    inn, init_X = append_gaussflow_image_block(inn, init_X=init_X, non_linear=\"rqsplines\", n_components=12, n_reflections=8, )\n",
    "\n",
    "    \n",
    "# SCALE I\n",
    "print(f\"Scale: 2\")\n",
    "print(\"DownSample\")\n",
    "inn.append(\n",
    "    Fm.IRevNetDownsampling, \n",
    ")\n",
    "print(inn(X_init)[0].shape, np.prod(inn(X_init)[0].shape[1:]))\n",
    "init_X = gf_propagate(inn, init_X)\n",
    "\n",
    "\n",
    "for isubflow in trange(4):\n",
    "\n",
    "    # append RealNVP Coupling Block\n",
    "    inn, init_X = append_gaussflow_image_block(inn, init_X=init_X, non_linear=\"rqsplines\", n_components=12, n_reflections=8, )\n",
    "\n",
    "\n",
    "    \n",
    "print(\"Flatten:\")\n",
    "inn.append(Fm.Flatten)\n",
    "print(init_X.shape, np.prod(inn(X_init)[0].shape[1:]))\n",
    "\n",
    "print(\"Final:\")\n",
    "print(init_X.shape, np.prod(inn(X_init)[0].shape[1:]))"
   ]
  },
  {
   "cell_type": "code",
   "execution_count": 85,
   "metadata": {},
   "outputs": [],
   "source": [
    "# # a simple chain of operations is collected by ReversibleSequential\n",
    "\n",
    "# batch = 100\n",
    "# n_channels = 1\n",
    "# height = 28\n",
    "# width = 28\n",
    "\n",
    "\n",
    "# inn = Ff.SequenceINN(n_channels, height, width)\n",
    "\n",
    "\n",
    "# # uniform dequantization (for integers)\n",
    "# inn.append(\n",
    "#     UniformDequantization,\n",
    "#     num_bits=8\n",
    "# )\n",
    "\n",
    "# print(\"Input:\")\n",
    "# print(X_init.shape, np.prod(inn(X_init)[0].shape))\n",
    "\n",
    "\n",
    "# # subset net\n",
    "# def subnet_conv(c_in, c_out):\n",
    "#     return nn.Sequential(nn.Conv2d(c_in, 32,   3, padding=1), nn.ReLU(),\n",
    "#                         nn.Conv2d(32,  c_out, 3, padding=1))\n",
    "\n",
    "\n",
    "# for isubflow in range(2):\n",
    "    \n",
    "#     # append RealNVP Coupling Block\n",
    "#     inn = append_realnvp_coupling_block_image(\n",
    "#         inn,\n",
    "#         conditioner=subnet_conv, \n",
    "#         actnorm=True, \n",
    "#         n_reflections=20,\n",
    "#         mask=\"wavelet\"\n",
    "#     )\n",
    "\n",
    "# # SCALE I\n",
    "# print(f\"Scale: 1\")\n",
    "# print(\"DownSample\")\n",
    "# inn.append(\n",
    "#     Fm.IRevNetDownsampling, \n",
    "# )\n",
    "\n",
    "# print(inn(X_init)[0].shape, np.prod(inn(X_init)[0].shape))\n",
    "\n",
    "# # subset net\n",
    "# def subnet_conv(c_in, c_out):\n",
    "#     return nn.Sequential(nn.Conv2d(c_in, 48,   3, padding=1), nn.ReLU(),\n",
    "#                         nn.Conv2d(48,  c_out, 3, padding=1))\n",
    "    \n",
    "# for isubflow in range(2):\n",
    "        \n",
    "#     # append RealNVP Coupling Block\n",
    "#     inn = append_realnvp_coupling_block_image(\n",
    "#         inn,\n",
    "#         conditioner=subnet_conv, \n",
    "#         actnorm=True, \n",
    "#         n_reflections=20,\n",
    "#         mask=\"wavelet\"\n",
    "#     )\n",
    "    \n",
    "# print(\"Split I\")\n",
    "# inn.append(\n",
    "#     SplitPrior, \n",
    "#     prior = dist.Normal(0.0, 1.0)\n",
    "# )\n",
    "# print(inn(X_init)[0].shape, np.prod(inn(X_init)[0].shape))\n",
    "\n",
    "# # SCALE I\n",
    "# print(f\"Scale II\")\n",
    "# print(\"DownSample\")\n",
    "# inn.append(\n",
    "#     Fm.IRevNetDownsampling, \n",
    "# )\n",
    "\n",
    "# print(inn(X_init)[0].shape, np.prod(inn(X_init)[0].shape))\n",
    "\n",
    "\n",
    "# # subset net\n",
    "# def subnet_conv(c_in, c_out):\n",
    "#     return nn.Sequential(nn.Conv2d(c_in, 64,   3, padding=1), nn.ReLU(),\n",
    "#                         nn.Conv2d(64,  c_out, 3, padding=1))\n",
    "    \n",
    "# for isubflow in range(4):\n",
    "        \n",
    "#     # append RealNVP Coupling Block\n",
    "#     inn = append_realnvp_coupling_block_image(\n",
    "#         inn,\n",
    "#         conditioner=subnet_conv, \n",
    "#         actnorm=True, \n",
    "#         n_reflections=20,\n",
    "#         mask=None\n",
    "#     )\n",
    "\n",
    "    \n",
    "    \n",
    "    \n",
    "# inn.append(Fm.Flatten)\n",
    "# print(\"Final:\")\n",
    "# print(inn(X_init)[0].shape)"
   ]
  },
  {
   "cell_type": "markdown",
   "metadata": {},
   "source": [
    "## Image Flow Model"
   ]
  },
  {
   "cell_type": "code",
   "execution_count": 44,
   "metadata": {},
   "outputs": [],
   "source": [
    "from src.lit_image import ImageFlow"
   ]
  },
  {
   "cell_type": "code",
   "execution_count": 45,
   "metadata": {},
   "outputs": [],
   "source": [
    "# Training\n",
    "cfg.num_epochs = 100\n",
    "cfg.lr_scheduler = \"cosine_annealing\"\n",
    "cfg.weight_decay = 1e-4\n",
    "cfg.gamma = 0.99\n",
    "cfg.learning_rate = 5e-4\n",
    "cfg.n_total_steps = cfg.num_epochs * 55_000\n",
    "cfg.n_total_dims = 784"
   ]
  },
  {
   "cell_type": "code",
   "execution_count": 46,
   "metadata": {},
   "outputs": [],
   "source": [
    "flow_img_mnist = ImageFlow(inn, cfg=cfg, prior=None)"
   ]
  },
  {
   "cell_type": "code",
   "execution_count": 47,
   "metadata": {},
   "outputs": [
    {
     "data": {
      "image/png": "[encoded data removed]",
      "text/plain": [
       "<Figure size 504x504 with 1 Axes>"
      ]
     },
     "metadata": {
      "image/png": {
       "height": 410,
       "width": 394
      },
      "needs_background": "light"
     },
     "output_type": "display_data"
    }
   ],
   "source": [
    "visualize_images(X_init[:64])"
   ]
  },
  {
   "cell_type": "markdown",
   "metadata": {},
   "source": [
    "### Forward"
   ]
  },
  {
   "cell_type": "code",
   "execution_count": 48,
   "metadata": {},
   "outputs": [
    {
     "name": "stdout",
     "output_type": "stream",
     "text": [
      "torch.Size([1024, 1, 28, 28]) tensor(0, dtype=torch.int32) tensor(255, dtype=torch.int32)\n",
      "torch.Size([1024, 784]) tensor(-13.2959) tensor(14.1095)\n"
     ]
    }
   ],
   "source": [
    "print(X_init.shape, X_init.min(), X_init.max())\n",
    "\n",
    "with torch.no_grad():\n",
    "    z, log_jac_det = flow_img_mnist.model.forward(X_init)\n",
    "print(z.shape, z.min(), z.max())"
   ]
  },
  {
   "cell_type": "code",
   "execution_count": 49,
   "metadata": {},
   "outputs": [
    {
     "name": "stderr",
     "output_type": "stream",
     "text": [
      "WARNING:root:Too few points to create valid contours\n",
      "WARNING:root:Too few points to create valid contours\n",
      "WARNING:root:Too few points to create valid contours\n"
     ]
    },
    {
     "data": {
      "image/png": "[encoded data removed]",
      "text/plain": [
       "<Figure size 698.4x698.4 with 16 Axes>"
      ]
     },
     "metadata": {
      "image/png": {
       "height": 662,
       "width": 662
      },
      "needs_background": "light"
     },
     "output_type": "display_data"
    }
   ],
   "source": [
    "fig = corner.corner(z.cpu().numpy()[:, :4])"
   ]
  },
  {
   "cell_type": "markdown",
   "metadata": {},
   "source": [
    "#### Inverse"
   ]
  },
  {
   "cell_type": "code",
   "execution_count": 50,
   "metadata": {},
   "outputs": [
    {
     "name": "stdout",
     "output_type": "stream",
     "text": [
      "torch.Size([1024, 1, 28, 28]) tensor(0) tensor(255)\n"
     ]
    }
   ],
   "source": [
    "with torch.no_grad():\n",
    "\n",
    "    x_ori, log_jac_det = flow_img_mnist.model.forward(z, rev=True)\n",
    "print(x_ori.shape, x_ori.min(), x_ori.max())"
   ]
  },
  {
   "cell_type": "code",
   "execution_count": 51,
   "metadata": {},
   "outputs": [
    {
     "data": {
      "image/png": "[encoded data removed]",
      "text/plain": [
       "<Figure size 504x504 with 1 Axes>"
      ]
     },
     "metadata": {
      "image/png": {
       "height": 410,
       "width": 394
      },
      "needs_background": "light"
     },
     "output_type": "display_data"
    }
   ],
   "source": [
    "visualize_images(x_ori[:64])"
   ]
  },
  {
   "cell_type": "markdown",
   "metadata": {},
   "source": [
    "#### Samples"
   ]
  },
  {
   "cell_type": "code",
   "execution_count": 52,
   "metadata": {},
   "outputs": [],
   "source": [
    "# sample from the INN by sampling from a standard normal and transforming\n",
    "# it in the reverse direction\n",
    "n_samples = 64\n",
    "# z = torch.randn(n_samples, N_DIM)\n",
    "with torch.no_grad():\n",
    "    samples = flow_img_mnist.sample((n_samples, 784))\n",
    "\n",
    "# plot_digits(samples.detach().numpy().squeeze(), 4, 4)"
   ]
  },
  {
   "cell_type": "code",
   "execution_count": 53,
   "metadata": {},
   "outputs": [
    {
     "data": {
      "image/png": "[encoded data removed]",
      "text/plain": [
       "<Figure size 504x504 with 1 Axes>"
      ]
     },
     "metadata": {
      "image/png": {
       "height": 410,
       "width": 394
      },
      "needs_background": "light"
     },
     "output_type": "display_data"
    }
   ],
   "source": [
    "visualize_images(samples)"
   ]
  },
  {
   "cell_type": "markdown",
   "metadata": {
    "id": "54bG45mKKGW6"
   },
   "source": [
    "## Training"
   ]
  },
  {
   "cell_type": "code",
   "execution_count": 87,
   "metadata": {},
   "outputs": [],
   "source": [
    "from src.callbacks.images import LogEvalImages"
   ]
  },
  {
   "cell_type": "code",
   "execution_count": 88,
   "metadata": {},
   "outputs": [
    {
     "name": "stderr",
     "output_type": "stream",
     "text": [
      "GPU available: True, used: True\n",
      "TPU available: False, using: 0 TPU cores\n",
      "IPU available: False, using: 0 IPUs\n"
     ]
    }
   ],
   "source": [
    "\n",
    "\n",
    "trainer = pl.Trainer(\n",
    "    # epochs\n",
    "    min_epochs=5, \n",
    "    max_epochs=cfg.num_epochs, \n",
    "    # progress bar\n",
    "    progress_bar_refresh_rate=10, \n",
    "    # device\n",
    "    gpus=1,\n",
    "    # gradient norm\n",
    "    gradient_clip_val=1.0, \n",
    "    gradient_clip_algorithm='norm',\n",
    "    logger=wandb_logger,\n",
    "    callbacks=[\n",
    "        LogEvalImages(input_imgs=X_init)\n",
    "    ]\n",
    "    \n",
    ")\n"
   ]
  },
  {
   "cell_type": "code",
   "execution_count": null,
   "metadata": {},
   "outputs": [
    {
     "data": {
      "text/html": [
       "<iframe src=\"https://wandb.ai/ipl_uv/cvpr2021/runs/12rqllaa?jupyter=true\" style=\"border:none;width:100%;height:420px\">\n",
       "                </iframe>"
      ],
      "text/plain": [
       "<wandb.jupyter.Run at 0x7f805cc7bd30>"
      ]
     },
     "metadata": {},
     "output_type": "display_data"
    },
    {
     "name": "stderr",
     "output_type": "stream",
     "text": [
      "/datadrive/eman/miniconda3/envs/gaussflow-gpu/lib/python3.8/site-packages/pytorch_lightning/trainer/trainer.py:530: LightningDeprecationWarning: `trainer.fit(train_dataloader)` is deprecated in v1.4 and will be removed in v1.6. Use `trainer.fit(train_dataloaders)` instead. HINT: added 's'\n",
      "  rank_zero_deprecation(\n",
      "LOCAL_RANK: 0 - CUDA_VISIBLE_DEVICES: [0,1]\n",
      "\n",
      "  | Name  | Type        | Params\n",
      "--------------------------------------\n",
      "0 | model | SequenceINN | 580 K \n",
      "--------------------------------------\n",
      "580 K     Trainable params\n",
      "0         Non-trainable params\n",
      "580 K     Total params\n",
      "2.321     Total estimated model params size (MB)\n"
     ]
    },
    {
     "data": {
      "application/vnd.jupyter.widget-view+json": {
       "model_id": "80f5ea198f7e40d3b3117ff3a38715e5",
       "version_major": 2,
       "version_minor": 0
      },
      "text/plain": [
       "Validation sanity check: 0it [00:00, ?it/s]"
      ]
     },
     "metadata": {},
     "output_type": "display_data"
    },
    {
     "name": "stderr",
     "output_type": "stream",
     "text": [
      "/datadrive/eman/miniconda3/envs/gaussflow-gpu/lib/python3.8/site-packages/pytorch_lightning/trainer/data_loading.py:105: UserWarning: The dataloader, val dataloader 0, does not have many workers which may be a bottleneck. Consider increasing the value of the `num_workers` argument` (try 12 which is the number of cpus on this machine) in the `DataLoader` init to improve performance.\n",
      "  rank_zero_warn(\n",
      "Global seed set to 123\n",
      "/datadrive/eman/miniconda3/envs/gaussflow-gpu/lib/python3.8/site-packages/pytorch_lightning/trainer/data_loading.py:105: UserWarning: The dataloader, train dataloader, does not have many workers which may be a bottleneck. Consider increasing the value of the `num_workers` argument` (try 12 which is the number of cpus on this machine) in the `DataLoader` init to improve performance.\n",
      "  rank_zero_warn(\n"
     ]
    },
    {
     "data": {
      "application/vnd.jupyter.widget-view+json": {
       "model_id": "aa81e59a2ce34cd4956ab203a1fdf849",
       "version_major": 2,
       "version_minor": 0
      },
      "text/plain": [
       "Training: -1it [00:00, ?it/s]"
      ]
     },
     "metadata": {},
     "output_type": "display_data"
    },
    {
     "data": {
      "application/vnd.jupyter.widget-view+json": {
       "model_id": "",
       "version_major": 2,
       "version_minor": 0
      },
      "text/plain": [
       "Validating: 0it [00:00, ?it/s]"
      ]
     },
     "metadata": {},
     "output_type": "display_data"
    },
    {
     "data": {
      "application/vnd.jupyter.widget-view+json": {
       "model_id": "",
       "version_major": 2,
       "version_minor": 0
      },
      "text/plain": [
       "Validating: 0it [00:00, ?it/s]"
      ]
     },
     "metadata": {},
     "output_type": "display_data"
    },
    {
     "name": "stderr",
     "output_type": "stream",
     "text": [
      "/datadrive/eman/miniconda3/envs/gaussflow-gpu/lib/python3.8/site-packages/pytorch_lightning/trainer/trainer.py:1046: UserWarning: Detected KeyboardInterrupt, attempting graceful shutdown...\n",
      "  rank_zero_warn(\"Detected KeyboardInterrupt, attempting graceful shutdown...\")\n"
     ]
    }
   ],
   "source": [
    "%%wandb\n",
    "\n",
    "trainer.fit(flow_img_mnist, train_dataloader=train_loader, val_dataloaders=val_loader)\n",
    "# trainer.fit(flow_img_mnist, datamodule=mnist_dm)"
   ]
  },
  {
   "cell_type": "markdown",
   "metadata": {
    "id": "IN0Vy-WqaKQA"
   },
   "source": [
    "#### Latent Space"
   ]
  },
  {
   "cell_type": "code",
   "execution_count": 117,
   "metadata": {},
   "outputs": [],
   "source": [
    "x = torch.Tensor(X_init)\n",
    "z, log_jac_det = flow_img_mnist.model(X_init)\n",
    "\n",
    "# plot_digits(z.detach().numpy(), 4, 4)"
   ]
  },
  {
   "cell_type": "code",
   "execution_count": null,
   "metadata": {},
   "outputs": [],
   "source": []
  },
  {
   "cell_type": "code",
   "execution_count": 118,
   "metadata": {},
   "outputs": [
    {
     "name": "stderr",
     "output_type": "stream",
     "text": [
      "WARNING:root:Too few points to create valid contours\n",
      "WARNING:root:Too few points to create valid contours\n",
      "WARNING:root:Too few points to create valid contours\n",
      "WARNING:root:Too few points to create valid contours\n",
      "WARNING:root:Too few points to create valid contours\n",
      "WARNING:root:Too few points to create valid contours\n",
      "WARNING:root:Too few points to create valid contours\n",
      "WARNING:root:Too few points to create valid contours\n",
      "WARNING:root:Too few points to create valid contours\n",
      "WARNING:root:Too few points to create valid contours\n"
     ]
    },
    {
     "data": {
      "image/png": "[encoded data removed]",
      "text/plain": [
       "<Figure size 849.6x849.6 with 25 Axes>"
      ]
     },
     "metadata": {
      "image/png": {
       "height": 803,
       "width": 803
      },
      "needs_background": "light"
     },
     "output_type": "display_data"
    }
   ],
   "source": [
    "fig = corner.corner(z.detach().numpy()[:, :5], hist_factor=2, color=\"red\")"
   ]
  },
  {
   "cell_type": "markdown",
   "metadata": {
    "id": "9h1FZD_VaM5S"
   },
   "source": [
    "#### Inverse Transform"
   ]
  },
  {
   "cell_type": "code",
   "execution_count": 119,
   "metadata": {
    "colab": {
     "base_uri": "https://localhost:8080/",
     "height": 367
    },
    "id": "j9rabhl-MNnv",
    "outputId": "aad12229-7eae-4d4f-a454-e0c6036dec3c"
   },
   "outputs": [
    {
     "data": {
      "image/png": "[encoded data removed]",
      "text/plain": [
       "<Figure size 432x288 with 16 Axes>"
      ]
     },
     "metadata": {
      "image/png": {
       "height": 231,
       "width": 323
      },
      "needs_background": "light"
     },
     "output_type": "display_data"
    }
   ],
   "source": [
    "x_ori, _ = flow_img_mnist.model.forward(z, rev=True)\n",
    "\n",
    "plot_digits(x_ori.detach().numpy().squeeze(), 4, 4)"
   ]
  },
  {
   "cell_type": "code",
   "execution_count": 120,
   "metadata": {},
   "outputs": [
    {
     "data": {
      "text/plain": [
       "torch.Size([16, 1, 8, 8])"
      ]
     },
     "execution_count": 120,
     "metadata": {},
     "output_type": "execute_result"
    }
   ],
   "source": [
    "x_ori.shape"
   ]
  },
  {
   "cell_type": "code",
   "execution_count": 105,
   "metadata": {},
   "outputs": [
    {
     "data": {
      "image/png": "[encoded data removed]",
      "text/plain": [
       "<Figure size 244.8x244.8 with 1 Axes>"
      ]
     },
     "metadata": {
      "image/png": {
       "height": 189,
       "width": 176
      },
      "needs_background": "light"
     },
     "output_type": "display_data"
    }
   ],
   "source": [
    "fig = corner.corner(x_ori.detach().numpy()[:, :5, ...].flatten(), hist_factor=2, color=\"green\")"
   ]
  },
  {
   "cell_type": "markdown",
   "metadata": {
    "id": "sjOLEynNaWYy"
   },
   "source": [
    "#### Sampling"
   ]
  },
  {
   "cell_type": "code",
   "execution_count": 121,
   "metadata": {
    "colab": {
     "base_uri": "https://localhost:8080/",
     "height": 367
    },
    "id": "i5LfuaNDaXi9",
    "outputId": "eae2e7c2-1eaf-45d9-abd3-76894fc81798"
   },
   "outputs": [
    {
     "data": {
      "image/png": "[encoded data removed]",
      "text/plain": [
       "<Figure size 432x288 with 16 Axes>"
      ]
     },
     "metadata": {
      "image/png": {
       "height": 231,
       "width": 323
      },
      "needs_background": "light"
     },
     "output_type": "display_data"
    }
   ],
   "source": [
    "# sample from the INN by sampling from a standard normal and transforming\n",
    "# it in the reverse direction\n",
    "n_samples = 16\n",
    "# z = torch.randn(n_samples, N_DIM)\n",
    "samples = flow_img_mnist.sample((100, 64))\n",
    "\n",
    "plot_digits(samples.detach().numpy().squeeze(), 4, 4)"
   ]
  },
  {
   "cell_type": "code",
   "execution_count": null,
   "metadata": {},
   "outputs": [],
   "source": [
    "fig = corner.corner(samples.detach().numpy(), hist_factor=2, color=\"red\")"
   ]
  }
 ],
 "metadata": {
  "colab": {
   "authorship_tag": "ABX9TyOdv4AryvtYOaRRO0X051GA",
   "collapsed_sections": [],
   "include_colab_link": true,
   "name": "pytorch_nf_freia.ipynb",
   "provenance": [],
   "toc_visible": true
  },
  "kernelspec": {
   "display_name": "Python [conda env:gaussflow-gpu]",
   "language": "python",
   "name": "conda-env-gaussflow-gpu-py"
  },
  "language_info": {
   "codemirror_mode": {
    "name": "ipython",
    "version": 3
   },
   "file_extension": ".py",
   "mimetype": "text/x-python",
   "name": "python",
   "nbconvert_exporter": "python",
   "pygments_lexer": "ipython3",
   "version": "3.8.11"
  },
  "widgets": {
   "application/vnd.jupyter.widget-state+json": {
    "03487df7df5744a88dde234e440ea7ab": {
     "model_module": "@jupyter-widgets/base",
     "model_name": "LayoutModel",
     "state": {
      "_model_module": "@jupyter-widgets/base",
      "_model_module_version": "1.2.0",
      "_model_name": "LayoutModel",
      "_view_count": null,
      "_view_module": "@jupyter-widgets/base",
      "_view_module_version": "1.2.0",
      "_view_name": "LayoutView",
      "align_content": null,
      "align_items": null,
      "align_self": null,
      "border": null,
      "bottom": null,
      "display": null,
      "flex": null,
      "flex_flow": null,
      "grid_area": null,
      "grid_auto_columns": null,
      "grid_auto_flow": null,
      "grid_auto_rows": null,
      "grid_column": null,
      "grid_gap": null,
      "grid_row": null,
      "grid_template_areas": null,
      "grid_template_columns": null,
      "grid_template_rows": null,
      "height": null,
      "justify_content": null,
      "justify_items": null,
      "left": null,
      "margin": null,
      "max_height": null,
      "max_width": null,
      "min_height": null,
      "min_width": null,
      "object_fit": null,
      "object_position": null,
      "order": null,
      "overflow": null,
      "overflow_x": null,
      "overflow_y": null,
      "padding": null,
      "right": null,
      "top": null,
      "visibility": null,
      "width": null
     }
    },
    "0b487da9140f4f1bbb187a2fb9831bc8": {
     "model_module": "@jupyter-widgets/controls",
     "model_name": "HTMLModel",
     "state": {
      "_dom_classes": [],
      "_model_module": "@jupyter-widgets/controls",
      "_model_module_version": "1.5.0",
      "_model_name": "HTMLModel",
      "_view_count": null,
      "_view_module": "@jupyter-widgets/controls",
      "_view_module_version": "1.5.0",
      "_view_name": "HTMLView",
      "description": "",
      "description_tooltip": null,
      "layout": "IPY_MODEL_6eb842ed17c4498d82725aad0b9b59a5",
      "placeholder": "​",
      "style": "IPY_MODEL_a18779becec546ea9168d35883d2f7ef",
      "value": "NLL Loss: -1.1355: 100%"
     }
    },
    "0cdc168c2881482cb86dc8659c4dfb4e": {
     "model_module": "@jupyter-widgets/controls",
     "model_name": "ProgressStyleModel",
     "state": {
      "_model_module": "@jupyter-widgets/controls",
      "_model_module_version": "1.5.0",
      "_model_name": "ProgressStyleModel",
      "_view_count": null,
      "_view_module": "@jupyter-widgets/base",
      "_view_module_version": "1.2.0",
      "_view_name": "StyleView",
      "bar_color": null,
      "description_width": "initial"
     }
    },
    "11e1a8d3338142cca04306a271c1fd66": {
     "model_module": "@jupyter-widgets/base",
     "model_name": "LayoutModel",
     "state": {
      "_model_module": "@jupyter-widgets/base",
      "_model_module_version": "1.2.0",
      "_model_name": "LayoutModel",
      "_view_count": null,
      "_view_module": "@jupyter-widgets/base",
      "_view_module_version": "1.2.0",
      "_view_name": "LayoutView",
      "align_content": null,
      "align_items": null,
      "align_self": null,
      "border": null,
      "bottom": null,
      "display": null,
      "flex": null,
      "flex_flow": null,
      "grid_area": null,
      "grid_auto_columns": null,
      "grid_auto_flow": null,
      "grid_auto_rows": null,
      "grid_column": null,
      "grid_gap": null,
      "grid_row": null,
      "grid_template_areas": null,
      "grid_template_columns": null,
      "grid_template_rows": null,
      "height": null,
      "justify_content": null,
      "justify_items": null,
      "left": null,
      "margin": null,
      "max_height": null,
      "max_width": null,
      "min_height": null,
      "min_width": null,
      "object_fit": null,
      "object_position": null,
      "order": null,
      "overflow": null,
      "overflow_x": null,
      "overflow_y": null,
      "padding": null,
      "right": null,
      "top": null,
      "visibility": null,
      "width": null
     }
    },
    "146d95601a9f4cc1b4d612780ad9d81e": {
     "model_module": "@jupyter-widgets/base",
     "model_name": "LayoutModel",
     "state": {
      "_model_module": "@jupyter-widgets/base",
      "_model_module_version": "1.2.0",
      "_model_name": "LayoutModel",
      "_view_count": null,
      "_view_module": "@jupyter-widgets/base",
      "_view_module_version": "1.2.0",
      "_view_name": "LayoutView",
      "align_content": null,
      "align_items": null,
      "align_self": null,
      "border": null,
      "bottom": null,
      "display": null,
      "flex": null,
      "flex_flow": null,
      "grid_area": null,
      "grid_auto_columns": null,
      "grid_auto_flow": null,
      "grid_auto_rows": null,
      "grid_column": null,
      "grid_gap": null,
      "grid_row": null,
      "grid_template_areas": null,
      "grid_template_columns": null,
      "grid_template_rows": null,
      "height": null,
      "justify_content": null,
      "justify_items": null,
      "left": null,
      "margin": null,
      "max_height": null,
      "max_width": null,
      "min_height": null,
      "min_width": null,
      "object_fit": null,
      "object_position": null,
      "order": null,
      "overflow": null,
      "overflow_x": null,
      "overflow_y": null,
      "padding": null,
      "right": null,
      "top": null,
      "visibility": null,
      "width": null
     }
    },
    "27ac6adacae74df09765279e36ba51c9": {
     "model_module": "@jupyter-widgets/base",
     "model_name": "LayoutModel",
     "state": {
      "_model_module": "@jupyter-widgets/base",
      "_model_module_version": "1.2.0",
      "_model_name": "LayoutModel",
      "_view_count": null,
      "_view_module": "@jupyter-widgets/base",
      "_view_module_version": "1.2.0",
      "_view_name": "LayoutView",
      "align_content": null,
      "align_items": null,
      "align_self": null,
      "border": null,
      "bottom": null,
      "display": null,
      "flex": null,
      "flex_flow": null,
      "grid_area": null,
      "grid_auto_columns": null,
      "grid_auto_flow": null,
      "grid_auto_rows": null,
      "grid_column": null,
      "grid_gap": null,
      "grid_row": null,
      "grid_template_areas": null,
      "grid_template_columns": null,
      "grid_template_rows": null,
      "height": null,
      "justify_content": null,
      "justify_items": null,
      "left": null,
      "margin": null,
      "max_height": null,
      "max_width": null,
      "min_height": null,
      "min_width": null,
      "object_fit": null,
      "object_position": null,
      "order": null,
      "overflow": null,
      "overflow_x": null,
      "overflow_y": null,
      "padding": null,
      "right": null,
      "top": null,
      "visibility": null,
      "width": null
     }
    },
    "3585dc6b56e9448e9ebd7aee0427849c": {
     "model_module": "@jupyter-widgets/base",
     "model_name": "LayoutModel",
     "state": {
      "_model_module": "@jupyter-widgets/base",
      "_model_module_version": "1.2.0",
      "_model_name": "LayoutModel",
      "_view_count": null,
      "_view_module": "@jupyter-widgets/base",
      "_view_module_version": "1.2.0",
      "_view_name": "LayoutView",
      "align_content": null,
      "align_items": null,
      "align_self": null,
      "border": null,
      "bottom": null,
      "display": null,
      "flex": null,
      "flex_flow": null,
      "grid_area": null,
      "grid_auto_columns": null,
      "grid_auto_flow": null,
      "grid_auto_rows": null,
      "grid_column": null,
      "grid_gap": null,
      "grid_row": null,
      "grid_template_areas": null,
      "grid_template_columns": null,
      "grid_template_rows": null,
      "height": null,
      "justify_content": null,
      "justify_items": null,
      "left": null,
      "margin": null,
      "max_height": null,
      "max_width": null,
      "min_height": null,
      "min_width": null,
      "object_fit": null,
      "object_position": null,
      "order": null,
      "overflow": null,
      "overflow_x": null,
      "overflow_y": null,
      "padding": null,
      "right": null,
      "top": null,
      "visibility": null,
      "width": null
     }
    },
    "4cbd1c67c4cd4dde888c28e86236623b": {
     "model_module": "@jupyter-widgets/base",
     "model_name": "LayoutModel",
     "state": {
      "_model_module": "@jupyter-widgets/base",
      "_model_module_version": "1.2.0",
      "_model_name": "LayoutModel",
      "_view_count": null,
      "_view_module": "@jupyter-widgets/base",
      "_view_module_version": "1.2.0",
      "_view_name": "LayoutView",
      "align_content": null,
      "align_items": null,
      "align_self": null,
      "border": null,
      "bottom": null,
      "display": null,
      "flex": null,
      "flex_flow": null,
      "grid_area": null,
      "grid_auto_columns": null,
      "grid_auto_flow": null,
      "grid_auto_rows": null,
      "grid_column": null,
      "grid_gap": null,
      "grid_row": null,
      "grid_template_areas": null,
      "grid_template_columns": null,
      "grid_template_rows": null,
      "height": null,
      "justify_content": null,
      "justify_items": null,
      "left": null,
      "margin": null,
      "max_height": null,
      "max_width": null,
      "min_height": null,
      "min_width": null,
      "object_fit": null,
      "object_position": null,
      "order": null,
      "overflow": null,
      "overflow_x": null,
      "overflow_y": null,
      "padding": null,
      "right": null,
      "top": null,
      "visibility": null,
      "width": null
     }
    },
    "51f382b99aa942a985a7f13658899845": {
     "model_module": "@jupyter-widgets/controls",
     "model_name": "HTMLModel",
     "state": {
      "_dom_classes": [],
      "_model_module": "@jupyter-widgets/controls",
      "_model_module_version": "1.5.0",
      "_model_name": "HTMLModel",
      "_view_count": null,
      "_view_module": "@jupyter-widgets/controls",
      "_view_module_version": "1.5.0",
      "_view_name": "HTMLView",
      "description": "",
      "description_tooltip": null,
      "layout": "IPY_MODEL_97f9aeda643542c4a0865c8f011d9d63",
      "placeholder": "​",
      "style": "IPY_MODEL_ae89c0a84a004c6cb766e814932c7cd5",
      "value": " 2500/2500 [04:19&lt;00:00,  9.69it/s]"
     }
    },
    "5338011d5d4143fd96766c6e6efe0e31": {
     "model_module": "@jupyter-widgets/base",
     "model_name": "LayoutModel",
     "state": {
      "_model_module": "@jupyter-widgets/base",
      "_model_module_version": "1.2.0",
      "_model_name": "LayoutModel",
      "_view_count": null,
      "_view_module": "@jupyter-widgets/base",
      "_view_module_version": "1.2.0",
      "_view_name": "LayoutView",
      "align_content": null,
      "align_items": null,
      "align_self": null,
      "border": null,
      "bottom": null,
      "display": null,
      "flex": null,
      "flex_flow": null,
      "grid_area": null,
      "grid_auto_columns": null,
      "grid_auto_flow": null,
      "grid_auto_rows": null,
      "grid_column": null,
      "grid_gap": null,
      "grid_row": null,
      "grid_template_areas": null,
      "grid_template_columns": null,
      "grid_template_rows": null,
      "height": null,
      "justify_content": null,
      "justify_items": null,
      "left": null,
      "margin": null,
      "max_height": null,
      "max_width": null,
      "min_height": null,
      "min_width": null,
      "object_fit": null,
      "object_position": null,
      "order": null,
      "overflow": null,
      "overflow_x": null,
      "overflow_y": null,
      "padding": null,
      "right": null,
      "top": null,
      "visibility": null,
      "width": null
     }
    },
    "5b81e974b63c4c0e81ce797d2b50dc73": {
     "model_module": "@jupyter-widgets/controls",
     "model_name": "HBoxModel",
     "state": {
      "_dom_classes": [],
      "_model_module": "@jupyter-widgets/controls",
      "_model_module_version": "1.5.0",
      "_model_name": "HBoxModel",
      "_view_count": null,
      "_view_module": "@jupyter-widgets/controls",
      "_view_module_version": "1.5.0",
      "_view_name": "HBoxView",
      "box_style": "",
      "children": [
       "IPY_MODEL_c9b5f116550c4d77be690004ccb7a288",
       "IPY_MODEL_6da0590882974d92b115f5443d53933b",
       "IPY_MODEL_51f382b99aa942a985a7f13658899845"
      ],
      "layout": "IPY_MODEL_e4d2f9604fae44eda5a748b735163819"
     }
    },
    "66c1d10bd0cd486983654d539d41a1e5": {
     "model_module": "@jupyter-widgets/controls",
     "model_name": "DescriptionStyleModel",
     "state": {
      "_model_module": "@jupyter-widgets/controls",
      "_model_module_version": "1.5.0",
      "_model_name": "DescriptionStyleModel",
      "_view_count": null,
      "_view_module": "@jupyter-widgets/base",
      "_view_module_version": "1.2.0",
      "_view_name": "StyleView",
      "description_width": ""
     }
    },
    "677d15edfb84477580f53eafd989006a": {
     "model_module": "@jupyter-widgets/controls",
     "model_name": "FloatProgressModel",
     "state": {
      "_dom_classes": [],
      "_model_module": "@jupyter-widgets/controls",
      "_model_module_version": "1.5.0",
      "_model_name": "FloatProgressModel",
      "_view_count": null,
      "_view_module": "@jupyter-widgets/controls",
      "_view_module_version": "1.5.0",
      "_view_name": "ProgressView",
      "bar_style": "success",
      "description": "",
      "description_tooltip": null,
      "layout": "IPY_MODEL_c80fd11df0494440a42f923dfb67735b",
      "max": 2500,
      "min": 0,
      "orientation": "horizontal",
      "style": "IPY_MODEL_c75b9b3e42644cfbbfdc456473eaa4ad",
      "value": 2500
     }
    },
    "688e92f515cd4e4eaed8b2437b35987f": {
     "model_module": "@jupyter-widgets/controls",
     "model_name": "HBoxModel",
     "state": {
      "_dom_classes": [],
      "_model_module": "@jupyter-widgets/controls",
      "_model_module_version": "1.5.0",
      "_model_name": "HBoxModel",
      "_view_count": null,
      "_view_module": "@jupyter-widgets/controls",
      "_view_module_version": "1.5.0",
      "_view_name": "HBoxView",
      "box_style": "",
      "children": [
       "IPY_MODEL_0b487da9140f4f1bbb187a2fb9831bc8",
       "IPY_MODEL_6efbedf7e4db442687319cccf1b27dbc",
       "IPY_MODEL_f35b9e183a194efb9ece5426ceb5e328"
      ],
      "layout": "IPY_MODEL_3585dc6b56e9448e9ebd7aee0427849c"
     }
    },
    "6da0590882974d92b115f5443d53933b": {
     "model_module": "@jupyter-widgets/controls",
     "model_name": "FloatProgressModel",
     "state": {
      "_dom_classes": [],
      "_model_module": "@jupyter-widgets/controls",
      "_model_module_version": "1.5.0",
      "_model_name": "FloatProgressModel",
      "_view_count": null,
      "_view_module": "@jupyter-widgets/controls",
      "_view_module_version": "1.5.0",
      "_view_name": "ProgressView",
      "bar_style": "success",
      "description": "",
      "description_tooltip": null,
      "layout": "IPY_MODEL_11e1a8d3338142cca04306a271c1fd66",
      "max": 2500,
      "min": 0,
      "orientation": "horizontal",
      "style": "IPY_MODEL_dfaaec70410b424b908053391c028ee8",
      "value": 2500
     }
    },
    "6eb842ed17c4498d82725aad0b9b59a5": {
     "model_module": "@jupyter-widgets/base",
     "model_name": "LayoutModel",
     "state": {
      "_model_module": "@jupyter-widgets/base",
      "_model_module_version": "1.2.0",
      "_model_name": "LayoutModel",
      "_view_count": null,
      "_view_module": "@jupyter-widgets/base",
      "_view_module_version": "1.2.0",
      "_view_name": "LayoutView",
      "align_content": null,
      "align_items": null,
      "align_self": null,
      "border": null,
      "bottom": null,
      "display": null,
      "flex": null,
      "flex_flow": null,
      "grid_area": null,
      "grid_auto_columns": null,
      "grid_auto_flow": null,
      "grid_auto_rows": null,
      "grid_column": null,
      "grid_gap": null,
      "grid_row": null,
      "grid_template_areas": null,
      "grid_template_columns": null,
      "grid_template_rows": null,
      "height": null,
      "justify_content": null,
      "justify_items": null,
      "left": null,
      "margin": null,
      "max_height": null,
      "max_width": null,
      "min_height": null,
      "min_width": null,
      "object_fit": null,
      "object_position": null,
      "order": null,
      "overflow": null,
      "overflow_x": null,
      "overflow_y": null,
      "padding": null,
      "right": null,
      "top": null,
      "visibility": null,
      "width": null
     }
    },
    "6efbedf7e4db442687319cccf1b27dbc": {
     "model_module": "@jupyter-widgets/controls",
     "model_name": "FloatProgressModel",
     "state": {
      "_dom_classes": [],
      "_model_module": "@jupyter-widgets/controls",
      "_model_module_version": "1.5.0",
      "_model_name": "FloatProgressModel",
      "_view_count": null,
      "_view_module": "@jupyter-widgets/controls",
      "_view_module_version": "1.5.0",
      "_view_name": "ProgressView",
      "bar_style": "success",
      "description": "",
      "description_tooltip": null,
      "layout": "IPY_MODEL_146d95601a9f4cc1b4d612780ad9d81e",
      "max": 2500,
      "min": 0,
      "orientation": "horizontal",
      "style": "IPY_MODEL_fc3cd4bb1b374c6ebd4568a15c9d652c",
      "value": 2500
     }
    },
    "773116f03333433f838c1208c061b168": {
     "model_module": "@jupyter-widgets/base",
     "model_name": "LayoutModel",
     "state": {
      "_model_module": "@jupyter-widgets/base",
      "_model_module_version": "1.2.0",
      "_model_name": "LayoutModel",
      "_view_count": null,
      "_view_module": "@jupyter-widgets/base",
      "_view_module_version": "1.2.0",
      "_view_name": "LayoutView",
      "align_content": null,
      "align_items": null,
      "align_self": null,
      "border": null,
      "bottom": null,
      "display": null,
      "flex": "2",
      "flex_flow": null,
      "grid_area": null,
      "grid_auto_columns": null,
      "grid_auto_flow": null,
      "grid_auto_rows": null,
      "grid_column": null,
      "grid_gap": null,
      "grid_row": null,
      "grid_template_areas": null,
      "grid_template_columns": null,
      "grid_template_rows": null,
      "height": null,
      "justify_content": null,
      "justify_items": null,
      "left": null,
      "margin": null,
      "max_height": null,
      "max_width": null,
      "min_height": null,
      "min_width": null,
      "object_fit": null,
      "object_position": null,
      "order": null,
      "overflow": null,
      "overflow_x": null,
      "overflow_y": null,
      "padding": null,
      "right": null,
      "top": null,
      "visibility": null,
      "width": null
     }
    },
    "97f9aeda643542c4a0865c8f011d9d63": {
     "model_module": "@jupyter-widgets/base",
     "model_name": "LayoutModel",
     "state": {
      "_model_module": "@jupyter-widgets/base",
      "_model_module_version": "1.2.0",
      "_model_name": "LayoutModel",
      "_view_count": null,
      "_view_module": "@jupyter-widgets/base",
      "_view_module_version": "1.2.0",
      "_view_name": "LayoutView",
      "align_content": null,
      "align_items": null,
      "align_self": null,
      "border": null,
      "bottom": null,
      "display": null,
      "flex": null,
      "flex_flow": null,
      "grid_area": null,
      "grid_auto_columns": null,
      "grid_auto_flow": null,
      "grid_auto_rows": null,
      "grid_column": null,
      "grid_gap": null,
      "grid_row": null,
      "grid_template_areas": null,
      "grid_template_columns": null,
      "grid_template_rows": null,
      "height": null,
      "justify_content": null,
      "justify_items": null,
      "left": null,
      "margin": null,
      "max_height": null,
      "max_width": null,
      "min_height": null,
      "min_width": null,
      "object_fit": null,
      "object_position": null,
      "order": null,
      "overflow": null,
      "overflow_x": null,
      "overflow_y": null,
      "padding": null,
      "right": null,
      "top": null,
      "visibility": null,
      "width": null
     }
    },
    "9d0fbedf933941a38b621fcbfa36b10e": {
     "model_module": "@jupyter-widgets/controls",
     "model_name": "HTMLModel",
     "state": {
      "_dom_classes": [],
      "_model_module": "@jupyter-widgets/controls",
      "_model_module_version": "1.5.0",
      "_model_name": "HTMLModel",
      "_view_count": null,
      "_view_module": "@jupyter-widgets/controls",
      "_view_module_version": "1.5.0",
      "_view_name": "HTMLView",
      "description": "",
      "description_tooltip": null,
      "layout": "IPY_MODEL_cfec265422fc46e2b1636c95169951ed",
      "placeholder": "​",
      "style": "IPY_MODEL_f31af3dd31124e468b10825222a17eef",
      "value": "NLL Loss: -0.7745: 100%"
     }
    },
    "a18779becec546ea9168d35883d2f7ef": {
     "model_module": "@jupyter-widgets/controls",
     "model_name": "DescriptionStyleModel",
     "state": {
      "_model_module": "@jupyter-widgets/controls",
      "_model_module_version": "1.5.0",
      "_model_name": "DescriptionStyleModel",
      "_view_count": null,
      "_view_module": "@jupyter-widgets/base",
      "_view_module_version": "1.2.0",
      "_view_name": "StyleView",
      "description_width": ""
     }
    },
    "a51662d153a14856bbd95cdd7af691d2": {
     "model_module": "@jupyter-widgets/base",
     "model_name": "LayoutModel",
     "state": {
      "_model_module": "@jupyter-widgets/base",
      "_model_module_version": "1.2.0",
      "_model_name": "LayoutModel",
      "_view_count": null,
      "_view_module": "@jupyter-widgets/base",
      "_view_module_version": "1.2.0",
      "_view_name": "LayoutView",
      "align_content": null,
      "align_items": null,
      "align_self": null,
      "border": null,
      "bottom": null,
      "display": "inline-flex",
      "flex": null,
      "flex_flow": "row wrap",
      "grid_area": null,
      "grid_auto_columns": null,
      "grid_auto_flow": null,
      "grid_auto_rows": null,
      "grid_column": null,
      "grid_gap": null,
      "grid_row": null,
      "grid_template_areas": null,
      "grid_template_columns": null,
      "grid_template_rows": null,
      "height": null,
      "justify_content": null,
      "justify_items": null,
      "left": null,
      "margin": null,
      "max_height": null,
      "max_width": null,
      "min_height": null,
      "min_width": null,
      "object_fit": null,
      "object_position": null,
      "order": null,
      "overflow": null,
      "overflow_x": null,
      "overflow_y": null,
      "padding": null,
      "right": null,
      "top": null,
      "visibility": null,
      "width": "100%"
     }
    },
    "ab088b3b8883418a8f793980dca7fbe0": {
     "model_module": "@jupyter-widgets/controls",
     "model_name": "DescriptionStyleModel",
     "state": {
      "_model_module": "@jupyter-widgets/controls",
      "_model_module_version": "1.5.0",
      "_model_name": "DescriptionStyleModel",
      "_view_count": null,
      "_view_module": "@jupyter-widgets/base",
      "_view_module_version": "1.2.0",
      "_view_name": "StyleView",
      "description_width": ""
     }
    },
    "ae89c0a84a004c6cb766e814932c7cd5": {
     "model_module": "@jupyter-widgets/controls",
     "model_name": "DescriptionStyleModel",
     "state": {
      "_model_module": "@jupyter-widgets/controls",
      "_model_module_version": "1.5.0",
      "_model_name": "DescriptionStyleModel",
      "_view_count": null,
      "_view_module": "@jupyter-widgets/base",
      "_view_module_version": "1.2.0",
      "_view_name": "StyleView",
      "description_width": ""
     }
    },
    "b0c6a22ee1e74a178a39b3e168fbcd79": {
     "model_module": "@jupyter-widgets/base",
     "model_name": "LayoutModel",
     "state": {
      "_model_module": "@jupyter-widgets/base",
      "_model_module_version": "1.2.0",
      "_model_name": "LayoutModel",
      "_view_count": null,
      "_view_module": "@jupyter-widgets/base",
      "_view_module_version": "1.2.0",
      "_view_name": "LayoutView",
      "align_content": null,
      "align_items": null,
      "align_self": null,
      "border": null,
      "bottom": null,
      "display": null,
      "flex": null,
      "flex_flow": null,
      "grid_area": null,
      "grid_auto_columns": null,
      "grid_auto_flow": null,
      "grid_auto_rows": null,
      "grid_column": null,
      "grid_gap": null,
      "grid_row": null,
      "grid_template_areas": null,
      "grid_template_columns": null,
      "grid_template_rows": null,
      "height": null,
      "justify_content": null,
      "justify_items": null,
      "left": null,
      "margin": null,
      "max_height": null,
      "max_width": null,
      "min_height": null,
      "min_width": null,
      "object_fit": null,
      "object_position": null,
      "order": null,
      "overflow": null,
      "overflow_x": null,
      "overflow_y": null,
      "padding": null,
      "right": null,
      "top": null,
      "visibility": null,
      "width": null
     }
    },
    "c75b9b3e42644cfbbfdc456473eaa4ad": {
     "model_module": "@jupyter-widgets/controls",
     "model_name": "ProgressStyleModel",
     "state": {
      "_model_module": "@jupyter-widgets/controls",
      "_model_module_version": "1.5.0",
      "_model_name": "ProgressStyleModel",
      "_view_count": null,
      "_view_module": "@jupyter-widgets/base",
      "_view_module_version": "1.2.0",
      "_view_name": "StyleView",
      "bar_color": null,
      "description_width": ""
     }
    },
    "c80fd11df0494440a42f923dfb67735b": {
     "model_module": "@jupyter-widgets/base",
     "model_name": "LayoutModel",
     "state": {
      "_model_module": "@jupyter-widgets/base",
      "_model_module_version": "1.2.0",
      "_model_name": "LayoutModel",
      "_view_count": null,
      "_view_module": "@jupyter-widgets/base",
      "_view_module_version": "1.2.0",
      "_view_name": "LayoutView",
      "align_content": null,
      "align_items": null,
      "align_self": null,
      "border": null,
      "bottom": null,
      "display": null,
      "flex": null,
      "flex_flow": null,
      "grid_area": null,
      "grid_auto_columns": null,
      "grid_auto_flow": null,
      "grid_auto_rows": null,
      "grid_column": null,
      "grid_gap": null,
      "grid_row": null,
      "grid_template_areas": null,
      "grid_template_columns": null,
      "grid_template_rows": null,
      "height": null,
      "justify_content": null,
      "justify_items": null,
      "left": null,
      "margin": null,
      "max_height": null,
      "max_width": null,
      "min_height": null,
      "min_width": null,
      "object_fit": null,
      "object_position": null,
      "order": null,
      "overflow": null,
      "overflow_x": null,
      "overflow_y": null,
      "padding": null,
      "right": null,
      "top": null,
      "visibility": null,
      "width": null
     }
    },
    "c9b5f116550c4d77be690004ccb7a288": {
     "model_module": "@jupyter-widgets/controls",
     "model_name": "HTMLModel",
     "state": {
      "_dom_classes": [],
      "_model_module": "@jupyter-widgets/controls",
      "_model_module_version": "1.5.0",
      "_model_name": "HTMLModel",
      "_view_count": null,
      "_view_module": "@jupyter-widgets/controls",
      "_view_module_version": "1.5.0",
      "_view_name": "HTMLView",
      "description": "",
      "description_tooltip": null,
      "layout": "IPY_MODEL_27ac6adacae74df09765279e36ba51c9",
      "placeholder": "​",
      "style": "IPY_MODEL_e544eb58993d485697256d3a9a309083",
      "value": "NLL Loss: -0.7324: 100%"
     }
    },
    "cfec265422fc46e2b1636c95169951ed": {
     "model_module": "@jupyter-widgets/base",
     "model_name": "LayoutModel",
     "state": {
      "_model_module": "@jupyter-widgets/base",
      "_model_module_version": "1.2.0",
      "_model_name": "LayoutModel",
      "_view_count": null,
      "_view_module": "@jupyter-widgets/base",
      "_view_module_version": "1.2.0",
      "_view_name": "LayoutView",
      "align_content": null,
      "align_items": null,
      "align_self": null,
      "border": null,
      "bottom": null,
      "display": null,
      "flex": null,
      "flex_flow": null,
      "grid_area": null,
      "grid_auto_columns": null,
      "grid_auto_flow": null,
      "grid_auto_rows": null,
      "grid_column": null,
      "grid_gap": null,
      "grid_row": null,
      "grid_template_areas": null,
      "grid_template_columns": null,
      "grid_template_rows": null,
      "height": null,
      "justify_content": null,
      "justify_items": null,
      "left": null,
      "margin": null,
      "max_height": null,
      "max_width": null,
      "min_height": null,
      "min_width": null,
      "object_fit": null,
      "object_position": null,
      "order": null,
      "overflow": null,
      "overflow_x": null,
      "overflow_y": null,
      "padding": null,
      "right": null,
      "top": null,
      "visibility": null,
      "width": null
     }
    },
    "d03f535facee4b09ad2b344ba3699ec0": {
     "model_module": "@jupyter-widgets/controls",
     "model_name": "FloatProgressModel",
     "state": {
      "_dom_classes": [],
      "_model_module": "@jupyter-widgets/controls",
      "_model_module_version": "1.5.0",
      "_model_name": "FloatProgressModel",
      "_view_count": null,
      "_view_module": "@jupyter-widgets/controls",
      "_view_module_version": "1.5.0",
      "_view_name": "ProgressView",
      "bar_style": "info",
      "description": "Epoch 20:  16%",
      "description_tooltip": null,
      "layout": "IPY_MODEL_773116f03333433f838c1208c061b168",
      "max": 100,
      "min": 0,
      "orientation": "horizontal",
      "style": "IPY_MODEL_0cdc168c2881482cb86dc8659c4dfb4e",
      "value": 16
     }
    },
    "d98215e1bcfe4ee7834237857b145726": {
     "model_module": "@jupyter-widgets/controls",
     "model_name": "HBoxModel",
     "state": {
      "_dom_classes": [],
      "_model_module": "@jupyter-widgets/controls",
      "_model_module_version": "1.5.0",
      "_model_name": "HBoxModel",
      "_view_count": null,
      "_view_module": "@jupyter-widgets/controls",
      "_view_module_version": "1.5.0",
      "_view_name": "HBoxView",
      "box_style": "",
      "children": [
       "IPY_MODEL_d03f535facee4b09ad2b344ba3699ec0",
       "IPY_MODEL_f384c5b7f12a45c1ae8f474253635daf"
      ],
      "layout": "IPY_MODEL_a51662d153a14856bbd95cdd7af691d2"
     }
    },
    "dfaaec70410b424b908053391c028ee8": {
     "model_module": "@jupyter-widgets/controls",
     "model_name": "ProgressStyleModel",
     "state": {
      "_model_module": "@jupyter-widgets/controls",
      "_model_module_version": "1.5.0",
      "_model_name": "ProgressStyleModel",
      "_view_count": null,
      "_view_module": "@jupyter-widgets/base",
      "_view_module_version": "1.2.0",
      "_view_name": "StyleView",
      "bar_color": null,
      "description_width": ""
     }
    },
    "dfeaaca0684441e49b10c8bf21e37663": {
     "model_module": "@jupyter-widgets/controls",
     "model_name": "DescriptionStyleModel",
     "state": {
      "_model_module": "@jupyter-widgets/controls",
      "_model_module_version": "1.5.0",
      "_model_name": "DescriptionStyleModel",
      "_view_count": null,
      "_view_module": "@jupyter-widgets/base",
      "_view_module_version": "1.2.0",
      "_view_name": "StyleView",
      "description_width": ""
     }
    },
    "e0cdb040c9e3447c909f2b7d92f371d2": {
     "model_module": "@jupyter-widgets/controls",
     "model_name": "HTMLModel",
     "state": {
      "_dom_classes": [],
      "_model_module": "@jupyter-widgets/controls",
      "_model_module_version": "1.5.0",
      "_model_name": "HTMLModel",
      "_view_count": null,
      "_view_module": "@jupyter-widgets/controls",
      "_view_module_version": "1.5.0",
      "_view_name": "HTMLView",
      "description": "",
      "description_tooltip": null,
      "layout": "IPY_MODEL_b0c6a22ee1e74a178a39b3e168fbcd79",
      "placeholder": "​",
      "style": "IPY_MODEL_66c1d10bd0cd486983654d539d41a1e5",
      "value": " 2500/2500 [01:12&lt;00:00, 35.36it/s]"
     }
    },
    "e4d2f9604fae44eda5a748b735163819": {
     "model_module": "@jupyter-widgets/base",
     "model_name": "LayoutModel",
     "state": {
      "_model_module": "@jupyter-widgets/base",
      "_model_module_version": "1.2.0",
      "_model_name": "LayoutModel",
      "_view_count": null,
      "_view_module": "@jupyter-widgets/base",
      "_view_module_version": "1.2.0",
      "_view_name": "LayoutView",
      "align_content": null,
      "align_items": null,
      "align_self": null,
      "border": null,
      "bottom": null,
      "display": null,
      "flex": null,
      "flex_flow": null,
      "grid_area": null,
      "grid_auto_columns": null,
      "grid_auto_flow": null,
      "grid_auto_rows": null,
      "grid_column": null,
      "grid_gap": null,
      "grid_row": null,
      "grid_template_areas": null,
      "grid_template_columns": null,
      "grid_template_rows": null,
      "height": null,
      "justify_content": null,
      "justify_items": null,
      "left": null,
      "margin": null,
      "max_height": null,
      "max_width": null,
      "min_height": null,
      "min_width": null,
      "object_fit": null,
      "object_position": null,
      "order": null,
      "overflow": null,
      "overflow_x": null,
      "overflow_y": null,
      "padding": null,
      "right": null,
      "top": null,
      "visibility": null,
      "width": null
     }
    },
    "e544eb58993d485697256d3a9a309083": {
     "model_module": "@jupyter-widgets/controls",
     "model_name": "DescriptionStyleModel",
     "state": {
      "_model_module": "@jupyter-widgets/controls",
      "_model_module_version": "1.5.0",
      "_model_name": "DescriptionStyleModel",
      "_view_count": null,
      "_view_module": "@jupyter-widgets/base",
      "_view_module_version": "1.2.0",
      "_view_name": "StyleView",
      "description_width": ""
     }
    },
    "f31af3dd31124e468b10825222a17eef": {
     "model_module": "@jupyter-widgets/controls",
     "model_name": "DescriptionStyleModel",
     "state": {
      "_model_module": "@jupyter-widgets/controls",
      "_model_module_version": "1.5.0",
      "_model_name": "DescriptionStyleModel",
      "_view_count": null,
      "_view_module": "@jupyter-widgets/base",
      "_view_module_version": "1.2.0",
      "_view_name": "StyleView",
      "description_width": ""
     }
    },
    "f35b9e183a194efb9ece5426ceb5e328": {
     "model_module": "@jupyter-widgets/controls",
     "model_name": "HTMLModel",
     "state": {
      "_dom_classes": [],
      "_model_module": "@jupyter-widgets/controls",
      "_model_module_version": "1.5.0",
      "_model_name": "HTMLModel",
      "_view_count": null,
      "_view_module": "@jupyter-widgets/controls",
      "_view_module_version": "1.5.0",
      "_view_name": "HTMLView",
      "description": "",
      "description_tooltip": null,
      "layout": "IPY_MODEL_03487df7df5744a88dde234e440ea7ab",
      "placeholder": "​",
      "style": "IPY_MODEL_dfeaaca0684441e49b10c8bf21e37663",
      "value": " 2500/2500 [01:14&lt;00:00, 33.89it/s]"
     }
    },
    "f384c5b7f12a45c1ae8f474253635daf": {
     "model_module": "@jupyter-widgets/controls",
     "model_name": "HTMLModel",
     "state": {
      "_dom_classes": [],
      "_model_module": "@jupyter-widgets/controls",
      "_model_module_version": "1.5.0",
      "_model_name": "HTMLModel",
      "_view_count": null,
      "_view_module": "@jupyter-widgets/controls",
      "_view_module_version": "1.5.0",
      "_view_name": "HTMLView",
      "description": "",
      "description_tooltip": null,
      "layout": "IPY_MODEL_4cbd1c67c4cd4dde888c28e86236623b",
      "placeholder": "​",
      "style": "IPY_MODEL_ab088b3b8883418a8f793980dca7fbe0",
      "value": " 16/100 [00:03&lt;00:20,  4.01it/s, loss=1.483, v_num=1]"
     }
    },
    "f993f2c55081402d8ce123dfc0564bfb": {
     "model_module": "@jupyter-widgets/controls",
     "model_name": "HBoxModel",
     "state": {
      "_dom_classes": [],
      "_model_module": "@jupyter-widgets/controls",
      "_model_module_version": "1.5.0",
      "_model_name": "HBoxModel",
      "_view_count": null,
      "_view_module": "@jupyter-widgets/controls",
      "_view_module_version": "1.5.0",
      "_view_name": "HBoxView",
      "box_style": "",
      "children": [
       "IPY_MODEL_9d0fbedf933941a38b621fcbfa36b10e",
       "IPY_MODEL_677d15edfb84477580f53eafd989006a",
       "IPY_MODEL_e0cdb040c9e3447c909f2b7d92f371d2"
      ],
      "layout": "IPY_MODEL_5338011d5d4143fd96766c6e6efe0e31"
     }
    },
    "fc3cd4bb1b374c6ebd4568a15c9d652c": {
     "model_module": "@jupyter-widgets/controls",
     "model_name": "ProgressStyleModel",
     "state": {
      "_model_module": "@jupyter-widgets/controls",
      "_model_module_version": "1.5.0",
      "_model_name": "ProgressStyleModel",
      "_view_count": null,
      "_view_module": "@jupyter-widgets/base",
      "_view_module_version": "1.2.0",
      "_view_name": "StyleView",
      "bar_color": null,
      "description_width": ""
     }
    }
   }
  }
 },
 "nbformat": 4,
 "nbformat_minor": 4
}
